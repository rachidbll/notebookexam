{
 "cells": [
  {
   "cell_type": "markdown",
   "id": "2963d357-5c6e-43a5-b15f-84a2b2d34eda",
   "metadata": {},
   "source": [
    "<h1>Data Science Tools and Ecosystem</h1>"
   ]
  },
  {
   "cell_type": "markdown",
   "id": "ec89e68c-4f01-4712-bc5d-fd01794a676a",
   "metadata": {},
   "source": [
    "In this notebook, Data Science Tools and Ecosystem are summarized."
   ]
  },
  {
   "cell_type": "markdown",
   "id": "ef79beea-b053-4fe1-b95f-b268466442c2",
   "metadata": {},
   "source": [
    "<span>Objectives:</span>\n",
    "<ul>\n",
    "    <li>List popular languages for Data Science</li>\n",
    "    <li>Create a code cell to convert minutes to hours</li>\n",
    "    <li>Create a code cell to multiply and add numbers</li>\n",
    "    <li>Create a markdown cell introducing arithmetic expression examples</li>\n",
    "    "
   ]
  },
  {
   "cell_type": "markdown",
   "id": "7bc6e659-86f8-43fb-bb5e-adfc8527b62f",
   "metadata": {},
   "source": [
    "<span>Some of the commonly used libraries used by Data Scientists include:</span>\n",
    "<ol>\n",
    "    <li>pytorch</li>\n",
    "    <li>Pandas</li>\n",
    "    <li>scikit learn</li>\n",
    "    \n",
    "    "
   ]
  },
  {
   "cell_type": "markdown",
   "id": "e8d8864a-0b33-46cd-bacf-41cb8c1d6870",
   "metadata": {},
   "source": [
    "|Data Science Tools|\n",
    "|---|\n",
    "|Jupyter notebooks|\n",
    "|Rstudio|\n",
    "|Zeppelin Notebooks|"
   ]
  },
  {
   "cell_type": "markdown",
   "id": "7bf25fa7-4504-44d7-98a5-706b7db4d891",
   "metadata": {},
   "source": [
    "<h3>Below are a few examples of evaluating arithmetic expressions in Python</h3>\n",
    "+ - * /"
   ]
  },
  {
   "cell_type": "markdown",
   "id": "f68ebe38-0264-45df-986f-15f4b8eaf286",
   "metadata": {},
   "source": [
    "This a simple arithmetic expression to mutiply then add integers"
   ]
  },
  {
   "cell_type": "code",
   "execution_count": null,
   "id": "f5751691-c6d0-4585-b06a-6fb6eeb8d429",
   "metadata": {},
   "outputs": [
    {
     "data": {
      "text/plain": [
       "17"
      ]
     },
     "execution_count": 1,
     "metadata": {},
     "output_type": "execute_result"
    }
   ],
   "source": [
    "(3*4)+5"
   ]
  },
  {
   "cell_type": "markdown",
   "id": "6915d067-2b28-4360-8328-5401d695eca6",
   "metadata": {},
   "source": [
    "This will convert 200 minutes to hours by diving by 60"
   ]
  },
  {
   "cell_type": "code",
   "execution_count": null,
   "id": "9586e1b6-9c2b-42e8-9490-6875cb1059dc",
   "metadata": {},
   "outputs": [
    {
     "data": {
      "text/plain": [
       "3.3333333333333335"
      ]
     },
     "execution_count": 2,
     "metadata": {},
     "output_type": "execute_result"
    }
   ],
   "source": [
    "200/60"
   ]
  },
  {
   "cell_type": "markdown",
   "id": "d20d1ee9-195f-45aa-bc22-c46a24e31e6e",
   "metadata": {},
   "source": [
    "<h2>Author</h2>\n",
    "<span>Rachid Baalla</span>"
   ]
  }
 ],
 "metadata": {
  "kernelspec": {
   "display_name": "Python",
   "language": "python",
   "name": "conda-env-python-py"
  },
  "language_info": {
   "codemirror_mode": {
    "name": "ipython",
    "version": 3
   },
   "file_extension": ".py",
   "mimetype": "text/x-python",
   "name": "python",
   "nbconvert_exporter": "python",
   "pygments_lexer": "ipython3",
   "version": "3.7.12"
  }
 },
 "nbformat": 4,
 "nbformat_minor": 5
}
